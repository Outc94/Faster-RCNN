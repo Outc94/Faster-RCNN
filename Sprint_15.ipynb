{
 "cells": [
  {
   "cell_type": "markdown",
   "metadata": {},
   "source": [
    "# Sprint 15 - Paper Reading "
   ]
  },
  {
   "cell_type": "markdown",
   "metadata": {},
   "source": [
    "> https://arxiv.org/pdf/1506.01497.pdf"
   ]
  },
  {
   "cell_type": "markdown",
   "metadata": {},
   "source": [
    " ## Question 1 - Answer"
   ]
  },
  {
   "cell_type": "markdown",
   "metadata": {},
   "source": [
    "In the field of object detection methods like the R-CNN, Fast R-CNN, Selective Search, ...\n",
    "> Section 2 (Related works), on the first paragraph"
   ]
  },
  {
   "cell_type": "markdown",
   "metadata": {},
   "source": [
    "## Question 2 - Answer"
   ]
  },
  {
   "cell_type": "markdown",
   "metadata": {},
   "source": [
    "Based on the abstract itself, we see that the speed-up process is possible because the RPN (Region Proposal Network) was introduced. Infact, the end-to-end learning and estimation is done based on the Faster R-CNN which introduced the RPN.\n",
    "> Abstract of the paper"
   ]
  },
  {
   "cell_type": "markdown",
   "metadata": {},
   "source": [
    "## Question 3 - Answer"
   ]
  },
  {
   "cell_type": "markdown",
   "metadata": {},
   "source": [
    "The difference between the One-Stage and Two-Stage methods is that the first stage consists of class-specific detection pipeline and the two-stage (the one used in the paper) consists of class-agnostic proposals and class-specific detection.\n",
    "> Section 4 (Experiments), Section 4.1 (Experiments on Pascal VOC), on the 16th paragraph (One-stage Detection vs Two-Stage Proposal + Detection)"
   ]
  },
  {
   "cell_type": "markdown",
   "metadata": {},
   "source": [
    "## Question 4 - Answer"
   ]
  },
  {
   "cell_type": "markdown",
   "metadata": {},
   "source": [
    "RPN (Region Proposal Network) is used to generate object proposal. It shares convolutional layers with state-of-the-art object detection networks.\n",
    "1. > Introduction of the paper, 3rd paragraph\n",
    "2. > https://www.alegion.com/faster-r-cnn"
   ]
  },
  {
   "cell_type": "markdown",
   "metadata": {},
   "source": [
    "## Question 5 - Answer"
   ]
  },
  {
   "cell_type": "markdown",
   "metadata": {},
   "source": [
    "The purpose of Rol (region of interest) pooling is to perform max pooling of imput of nonuniform sizes to obtain fixed size feature maps. \n",
    "1. > The second reference paper of the paper itself\n",
    "2. > https://deepsense.ai/region-of-interest-pooling-explained/"
   ]
  },
  {
   "cell_type": "markdown",
   "metadata": {},
   "source": [
    "## Question 6 - Answer"
   ]
  },
  {
   "cell_type": "markdown",
   "metadata": {},
   "source": [
    "Based on the first paragraph of section 3.1.1, it is stated that 3 scales and 3 apect ratios are used. On table 8, it corresponds to 69.9%. That's the proper size for Anchor.\n",
    "1. > Section 3.1.1, first paragraph\n",
    "2. > Table 8 of the paper"
   ]
  },
  {
   "cell_type": "markdown",
   "metadata": {},
   "source": [
    "## Question 7 - Answer"
   ]
  },
  {
   "cell_type": "markdown",
   "metadata": {},
   "source": [
    "The COCO dataset is used. Compared to the previous research, we see in the paper that by using PASCAL VOC 2007, PASCAL VOC 2012 and MS COCO, MaP is improved. When the COCO training set to train was used, there were 2.8% higher for mAP@0.5 and 2.2% higher for mAP@[.5, .95] than the Fast RCNN counterpart under the same protocol (Table 11).\n",
    "> Section 4.2 (Experiments on MS COCO), 4th and 5th paragraphs"
   ]
  }
 ],
 "metadata": {
  "kernelspec": {
   "display_name": "Python 3",
   "language": "python",
   "name": "python3"
  },
  "language_info": {
   "codemirror_mode": {
    "name": "ipython",
    "version": 3
   },
   "file_extension": ".py",
   "mimetype": "text/x-python",
   "name": "python",
   "nbconvert_exporter": "python",
   "pygments_lexer": "ipython3",
   "version": "3.7.4"
  }
 },
 "nbformat": 4,
 "nbformat_minor": 2
}
